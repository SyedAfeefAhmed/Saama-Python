{
 "cells": [
  {
   "cell_type": "code",
   "execution_count": 1,
   "id": "f3acab37",
   "metadata": {},
   "outputs": [
    {
     "name": "stdout",
     "output_type": "stream",
     "text": [
      "['New folder', 'one.pdf', 'two.pdf']\n",
      "one.pdf\n",
      "22_04_05_20_41_01\n",
      "<class 'str'>\n",
      "two.pdf\n",
      "22_04_05_20_41_01\n",
      "<class 'str'>\n"
     ]
    }
   ],
   "source": [
    "# Encrypting multiple pdf files\n",
    "\n",
    "import PyPDF2\n",
    "import tkinter\n",
    "from tkinter import filedialog\n",
    "import os\n",
    "import sqlite3 as sql\n",
    "\n",
    "def my_db_ex(db,file_name,password,current_time):\n",
    "    try:\n",
    "            db_connection = sql.connect(db)\n",
    "            create_table = \"\"\"CREATE TABLE IF NOT EXISTS pdf_info (\"F_name\" text, \"F_password\" text, \"date_encryption\" text)\"\"\"\n",
    "            db_connection.execute(create_table)\n",
    "            insert_query = f\"\"\"INSERT INTO pdf_info(\"F_name\", \"F_password\", \"date_encryption\") values (\"{file_name}\",'{password}',\"{current_time}\")\"\"\"\n",
    "            db_connection.execute(insert_query)\n",
    "    except Exception as ex:\n",
    "        print (ex)\n",
    "    finally:\n",
    "        db_connection.commit()\n",
    "        db_connection.close()     \n",
    "folder_list = os.listdir(r\"C:\\Users\\syed.ahmed\\SamplePDF\") #Checking the pdf files in Sample PDF and storing them in folder_list\n",
    "print(folder_list)\n",
    "\n",
    "#for x,y,z in os.walk(): - It walks through the particular foder and shows all the content in the folder x (root), y (directory), z (files)\n",
    "# print(x)\n",
    "# print(y)\n",
    "# print(z)\n",
    "try:\n",
    "    for files in folder_list:\n",
    "        if files.endswith('.pdf'): #Fetching only pdf files which ends with \".pdf\"\n",
    "            print(files)\n",
    "            file_path = os.path.join(r\"C:\\Users\\syed.ahmed\\SamplePDF\",files)\n",
    "            pdf_in_file = open(file_path, 'rb') #Converting content to machine readable language\n",
    "            inputpdf = PyPDF2.PdfFileReader(pdf_in_file)\n",
    "            if not inputpdf.isEncrypted:\n",
    "                page_no = inputpdf.numPages    #Reading number of page numbers in the pdf file\n",
    "                output = PyPDF2.PdfFileWriter()\n",
    "                for i in range(page_no):   #Reading number of page numbers in the pdf file\n",
    "                    inputpdf = PyPDF2.PdfFileReader(pdf_in_file)\n",
    "                    from datetime import datetime\n",
    "                    current_time = datetime.now().replace(microsecond = 0)\n",
    "                    current_time = datetime.strftime(current_time,\"%y_%m_%d_%H_%M_%S\") #Changing format of current time\n",
    "                    print(current_time)\n",
    "                    print(type(current_time))\n",
    "                    output.addPage(inputpdf.getPage(i))\n",
    "                    output.encrypt(files[:-4] + current_time) #Creating password as filename with current time\n",
    "                \n",
    "                    output_file_name = \"enc_pdf\" + files[:-4] + current_time + \".pdf\" #Modifying the password protected pdf file name \n",
    "                    output_file_path = os.path.join(r\"C:\\Users\\syed.ahmed\\SamplePDF\",output_file_name) #Setting location for the encrypted file\n",
    "                with open(output_file_path, \"wb\") as outputStream: #Converting file path to machine writable language\n",
    "                    output.write(outputStream)\n",
    "                with open(r\"C:\\Users\\syed.ahmed\\SamplePDF\\Password.txt\",\"a\") as file_obj: #Creating a new text file which will contain password for each pdf file\n",
    "                    file_obj.write(files)\n",
    "                    password = files[:-4] + current_time\n",
    "                    file_obj.write(password)\n",
    "                    file_obj.write(\"\\n___________________________________________\\n\")\n",
    "                    \n",
    "                my_db_ex('pdf.db',files[:-4],password,current_time)   #Storing the credentials in pdf.db database\n",
    "                    \n",
    "        \n",
    "except exception as ex:\n",
    "    print (ex)\n",
    "finally:\n",
    "    pdf_in_file.close()"
   ]
  },
  {
   "cell_type": "code",
   "execution_count": null,
   "id": "5900053d",
   "metadata": {},
   "outputs": [],
   "source": []
  }
 ],
 "metadata": {
  "kernelspec": {
   "display_name": "Python 3",
   "language": "python",
   "name": "python3"
  },
  "language_info": {
   "codemirror_mode": {
    "name": "ipython",
    "version": 3
   },
   "file_extension": ".py",
   "mimetype": "text/x-python",
   "name": "python",
   "nbconvert_exporter": "python",
   "pygments_lexer": "ipython3",
   "version": "3.8.8"
  }
 },
 "nbformat": 4,
 "nbformat_minor": 5
}
